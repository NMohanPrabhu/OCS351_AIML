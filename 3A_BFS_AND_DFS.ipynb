{
 "cells": [
  {
   "cell_type": "markdown",
   "id": "389d6c06-8fe4-4064-8a3f-6909092a44e4",
   "metadata": {},
   "source": [
    "<font size=\"6\" color=\"yellow\">EXPT: 3 ANALYSIS OF BREADTH FIRST AND DEPTH FIRST SEARCH IN TERMS OF TIME AND SPACE</font>"
   ]
  },
  {
   "cell_type": "markdown",
   "id": "8c935260-f10c-49cb-b6cf-cbfe49c1ee7c",
   "metadata": {},
   "source": [
    "<font size=\"6\" color=\"yellow\">DFS</font>"
   ]
  },
  {
   "cell_type": "code",
   "execution_count": 5,
   "id": "0d9b51f8-8004-4999-a137-310c341878c9",
   "metadata": {},
   "outputs": [
    {
     "name": "stdout",
     "output_type": "stream",
     "text": [
      "A\n",
      "B\n",
      "D\n",
      "E\n",
      "F\n",
      "C\n",
      "0.0019989013671875\n"
     ]
    }
   ],
   "source": [
    "import time\n",
    "# Save timestamp\n",
    "start = time.time()\n",
    "graph = {\n",
    "    'A' : ['B','C'],\n",
    "    'B' : ['D', 'E'],\n",
    "    'C' : ['F'],\n",
    "    'D' : [],\n",
    "    'E' : ['F'],\n",
    "    'F' : []\n",
    "}\n",
    "\n",
    "visited = set() # Set to keep track of visited nodes.\n",
    "\n",
    "def dfs(visited, graph, node):\n",
    "    if node not in visited:\n",
    "        print (node)\n",
    "        visited.add(node)\n",
    "        for neighbour in graph[node]:\n",
    "            dfs(visited, graph, neighbour)\n",
    "# Driver Code\n",
    "dfs(visited, graph, 'A')\n",
    "end = time.time()\n",
    "\n",
    "print(end - start)\n",
    "\n"
   ]
  },
  {
   "cell_type": "markdown",
   "id": "772d279a-2bd7-4182-a117-c036d77df788",
   "metadata": {},
   "source": [
    "<font size=\"6\" color=\"yellow\">BFS</font>"
   ]
  },
  {
   "cell_type": "code",
   "execution_count": 7,
   "id": "223a3fb4-2949-41cd-9075-7d48345eabdc",
   "metadata": {},
   "outputs": [
    {
     "name": "stdout",
     "output_type": "stream",
     "text": [
      "A B C D E F \n",
      "\n",
      "execution time  0.0009996891021728516\n"
     ]
    }
   ],
   "source": [
    "import time\n",
    "graph = {\n",
    "  'A' : ['B','C'],\n",
    "  'B' : ['D', 'E'],\n",
    "  'C' : ['F'],\n",
    "  'D' : [],\n",
    "  'E' : ['F'],\n",
    "  'F' : []\n",
    "}\n",
    "visited = [] # List to keep track of visited nodes.\n",
    "queue = []     #Initialize a queue\n",
    "\n",
    "# Save timestamp\n",
    "start = time.time()\n",
    "def bfs(visited, graph, node):\n",
    "  visited.append(node)\n",
    "  queue.append(node)\n",
    "  while queue:\n",
    "    s = queue.pop(0) \n",
    "    print (s, end = \" \") \n",
    "    for neighbour in graph[s]:\n",
    "      if neighbour not in visited:\n",
    "        visited.append(neighbour)\n",
    "        queue.append(neighbour)\n",
    "# Driver Code\n",
    "bfs(visited, graph, 'A')\n",
    "end = time.time()\n",
    "print(\"\\n\")\n",
    "print(\"execution time \",end - start)"
   ]
  },
  {
   "cell_type": "code",
   "execution_count": null,
   "id": "f164cf0e-71d4-4c25-ba6a-790afe1bf46b",
   "metadata": {},
   "outputs": [],
   "source": []
  }
 ],
 "metadata": {
  "kernelspec": {
   "display_name": "Python 3 (ipykernel)",
   "language": "python",
   "name": "python3"
  },
  "language_info": {
   "codemirror_mode": {
    "name": "ipython",
    "version": 3
   },
   "file_extension": ".py",
   "mimetype": "text/x-python",
   "name": "python",
   "nbconvert_exporter": "python",
   "pygments_lexer": "ipython3",
   "version": "3.8.20"
  }
 },
 "nbformat": 4,
 "nbformat_minor": 5
}
