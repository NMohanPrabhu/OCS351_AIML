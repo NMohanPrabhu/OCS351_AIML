{
 "cells": [
  {
   "cell_type": "markdown",
   "id": "6509d2cf-642a-4b4b-ab00-9bb502f508cc",
   "metadata": {},
   "source": [
    "<font size=\"6\" color=\"yellow\">EXPT: 2. IMPLEMENT DEPTH FIRST SEARCH</font>"
   ]
  },
  {
   "cell_type": "code",
   "execution_count": 1,
   "id": "51200d45-79bf-437e-855e-826e5ed41b7b",
   "metadata": {},
   "outputs": [
    {
     "name": "stdout",
     "output_type": "stream",
     "text": [
      "A\n",
      "B\n",
      "D\n",
      "E\n",
      "F\n",
      "C\n"
     ]
    }
   ],
   "source": [
    "graph = {\n",
    "    'A' : ['B','C'],\n",
    "    'B' : ['D', 'E'],\n",
    "    'C' : ['F'],\n",
    "    'D' : [],\n",
    "    'E' : ['F'],\n",
    "    'F' : []\n",
    "}\n",
    "visited = set() # Set to keep track of visited nodes.\n",
    "def dfs(visited, graph, node):\n",
    "    if node not in visited:\n",
    "        print (node)\n",
    "        visited.add(node)\n",
    "        for neighbour in graph[node]:\n",
    "            dfs(visited, graph, neighbour)\n",
    "# Driver Code\n",
    "dfs(visited, graph, 'A')\n"
   ]
  }
 ],
 "metadata": {
  "kernelspec": {
   "display_name": "Python 3 (ipykernel)",
   "language": "python",
   "name": "python3"
  },
  "language_info": {
   "codemirror_mode": {
    "name": "ipython",
    "version": 3
   },
   "file_extension": ".py",
   "mimetype": "text/x-python",
   "name": "python",
   "nbconvert_exporter": "python",
   "pygments_lexer": "ipython3",
   "version": "3.8.20"
  }
 },
 "nbformat": 4,
 "nbformat_minor": 5
}
